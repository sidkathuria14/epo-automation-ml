{
 "cells": [
  {
   "cell_type": "code",
   "execution_count": 252,
   "metadata": {
    "collapsed": true
   },
   "outputs": [],
   "source": [
    "#importing all the libraries\n",
    "import numpy as np\n",
    "import pandas as pd\n",
    "import matplotlib.pyplot as plt\n",
    "import datetime\n",
    "from datetime import date\n",
    "import re\n",
    "from functools import reduce"
   ]
  },
  {
   "cell_type": "code",
   "execution_count": 254,
   "metadata": {},
   "outputs": [
    {
     "data": {
      "text/plain": [
       "<bound method DataFrame.describe of         Date                              to                             raw\n",
       "0   30/09/17       shubhi.prakash03@gmail.com   will be doing it by tomorrow\n",
       "1   30/09/17  exampreparationonline@gmail.com   will be doing it by tomorrow\n",
       "7   30/09/17           nidhisaini05@gmail.com  try to submit it with details\n",
       "8   30/09/17    chowdhuryshaif@rediffmail.com  try to submit it with details\n",
       "17  01/10/17        abhishekguragol@gmail.com     can u tell me the details?\n",
       "21  01/10/17             sonuyannam@gmail.com     can u tell me the details?\n",
       "37  03/10/17            sachinsn231@gmail.com          when is the deadline?\n",
       "42  03/10/17         limithakeerthi@gmail.com          when is the deadline?\n",
       "43  03/10/17           ramthakkar07@gmail.com          when is the deadline?\n",
       "44  03/10/17      pavithramurugan22@gmail.com          when is the deadline?\n",
       "45  04/10/17      saha.swapankumar1@gmail.com          when is the deadline?>"
      ]
     },
     "execution_count": 254,
     "metadata": {},
     "output_type": "execute_result"
    }
   ],
   "source": [
    "#importing dataset and removing duplicate email ids\n",
    "dataset = pd.read_csv('./email.csv',sep= '$')\n",
    "dataset = dataset.drop_duplicates(['to '])\n",
    "dataset.describe"
   ]
  },
  {
   "cell_type": "code",
   "execution_count": 255,
   "metadata": {},
   "outputs": [
    {
     "name": "stdout",
     "output_type": "stream",
     "text": [
      "2018-06-09\n"
     ]
    }
   ],
   "source": [
    "#removing different formats of dataset\n",
    "dataset['Date'] = dataset['Date'].astype('str')\n",
    "for i in range(dataset.shape[0]):\n",
    "    if len(dataset['Date'].iloc[i]) > 8:\n",
    "        dataset.drop(dataset.index[[i]])\n",
    "#getting current date\n",
    "now = datetime.datetime.now()\n",
    "c_y = now.year\n",
    "c_m = now.month\n",
    "c_d = now.day\n",
    "c_date = date(c_y,c_m,c_d)\n",
    "print c_date"
   ]
  },
  {
   "cell_type": "code",
   "execution_count": 256,
   "metadata": {},
   "outputs": [],
   "source": [
    "# difference of dates function\n",
    "def difference_between_dates():\n",
    "    last_date = date(2017,10,4)\n",
    "    datetime.timedelta(7)\n",
    "    return (c_date-last_date).days  "
   ]
  },
  {
   "cell_type": "code",
   "execution_count": 257,
   "metadata": {},
   "outputs": [
    {
     "data": {
      "text/plain": [
       "248"
      ]
     },
     "execution_count": 257,
     "metadata": {},
     "output_type": "execute_result"
    }
   ],
   "source": [
    "difference_between_dates()"
   ]
  },
  {
   "cell_type": "code",
   "execution_count": 258,
   "metadata": {},
   "outputs": [
    {
     "name": "stdout",
     "output_type": "stream",
     "text": [
      "['will', 'be', 'doing', 'it', 'by', 'tomorrow', 'try', 'to', 'submit', 'with', 'details', 'can', 'u', 'tell', 'me', 'the', 'details?', 'when', 'is', 'deadline?']\n"
     ]
    }
   ],
   "source": [
    "#creating a list of all the words from raw column in dataset and removing all duplicates\n",
    "word_list = []\n",
    "for i in range(dataset.shape[0]):\n",
    "    for word in dataset['raw'].iloc[i].split():\n",
    "        if word not in word_list:\n",
    "            word_list.append(word)\n",
    "print word_list"
   ]
  },
  {
   "cell_type": "code",
   "execution_count": 259,
   "metadata": {
    "collapsed": true
   },
   "outputs": [],
   "source": [
    "#creating an array of sample words as specified with a sample word \"doing\" which is in our word list\n",
    "array = [['OpenCV','Python','doing'],[]]"
   ]
  },
  {
   "cell_type": "code",
   "execution_count": 260,
   "metadata": {},
   "outputs": [
    {
     "name": "stdout",
     "output_type": "stream",
     "text": [
      "[['OpenCV', 'Python'], ['doing']]\n"
     ]
    }
   ],
   "source": [
    "# shifting word to second list in array(listoflist) if it is present i wordlist\n",
    "for word in array[0]:\n",
    "    if word in word_list:\n",
    "        array[0].remove(word)\n",
    "        array[1].append(word)\n",
    "print array"
   ]
  },
  {
   "cell_type": "code",
   "execution_count": 266,
   "metadata": {},
   "outputs": [],
   "source": [
    "#Thank You"
   ]
  }
 ],
 "metadata": {
  "kernelspec": {
   "display_name": "Python 2",
   "language": "python",
   "name": "python2"
  },
  "language_info": {
   "codemirror_mode": {
    "name": "ipython",
    "version": 2
   },
   "file_extension": ".py",
   "mimetype": "text/x-python",
   "name": "python",
   "nbconvert_exporter": "python",
   "pygments_lexer": "ipython2",
   "version": "2.7.13"
  }
 },
 "nbformat": 4,
 "nbformat_minor": 2
}
